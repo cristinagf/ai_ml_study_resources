{
 "cells": [
  {
   "cell_type": "markdown",
   "metadata": {},
   "source": [
    "## <a name=\"p1\" id=\"p1\">Top web users</a>\n",
    "You are given a log of website visits represented as a list of tuples:\n",
    "(user_id: int, visit_duration: int).\n",
    "\n",
    "Your task is to return the top K users with the highest total visit duration.\n",
    "\n",
    "Example:\n",
    "\n",
    "```python\n",
    "logs = [(1, 120), (2, 150), (1, 200), (3, 50), (2, 100)]\n",
    "k = 2\n",
    "Output: [1, 2]\n",
    "```\n",
    " Output reasoning: User 1 spent 320s, User 2 spent 250s, User 3 spent 50s, so top 2 are [1, 2]\n",
    "\n",
    "**Constraints:**\n",
    "\n",
    "Each user can have multiple entries in logs.\n",
    "\n",
    "K is always ≤ number of unique users.\n",
    "\n",
    "If two users have the same total time, return them in any order.\n",
    "\n"
   ]
  },
  {
   "cell_type": "markdown",
   "metadata": {},
   "source": [
    "## Reasoning\n",
    "1. Aggregate total visits per user. e.g., dict{user: total_visits}\n",
    "2. Sort data by total visits\n",
    "3. Return top K users"
   ]
  },
  {
   "cell_type": "code",
   "execution_count": 6,
   "metadata": {},
   "outputs": [
    {
     "name": "stdout",
     "output_type": "stream",
     "text": [
      "[1, 2]\n"
     ]
    }
   ],
   "source": [
    "from typing import List\n",
    "def top_k_users(logs: tuple[int,int], k:int) -> List[int]:\n",
    "    \"\"\"\n",
    "    Solution.\n",
    "    \"\"\"\n",
    "    user_time = {}\n",
    "    for user, duration in logs:\n",
    "        if user in user_time:\n",
    "            user_time[user] += duration\n",
    "        else:\n",
    "            user_time[user] = duration\n",
    "    \n",
    "    # sort data by total visit duration\n",
    "    # sorted_users = sorted(user_time.keys(), key=lambda u: user_time[u], reverse=True)\n",
    "    sorted_users = sorted(user_time.keys(), key=lambda a: user_time[1], reverse=True)\n",
    "    # Time complexity: O(N log N)\n",
    "    \n",
    "    return sorted_users[:k]\n",
    "\n",
    "logs = [(1, 120), (2, 150), (1, 200), (3, 50), (2, 100)]\n",
    "k = 2\n",
    "print(top_k_users(logs, k))\n",
    "# Space complexity: O(N), N=number of unique users\n"
   ]
  },
  {
   "cell_type": "code",
   "execution_count": null,
   "metadata": {},
   "outputs": [],
   "source": []
  }
 ],
 "metadata": {
  "kernelspec": {
   "display_name": ".venv",
   "language": "python",
   "name": "python3"
  },
  "language_info": {
   "codemirror_mode": {
    "name": "ipython",
    "version": 3
   },
   "file_extension": ".py",
   "mimetype": "text/x-python",
   "name": "python",
   "nbconvert_exporter": "python",
   "pygments_lexer": "ipython3",
   "version": "3.12.3"
  }
 },
 "nbformat": 4,
 "nbformat_minor": 2
}
