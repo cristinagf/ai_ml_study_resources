{
 "cells": [
  {
   "cell_type": "markdown",
   "metadata": {},
   "source": [
    "# Exercises for live coding interviews\n",
    "\n",
    "You can find multiple sources for coding practice exercises. \n",
    "\n",
    "References:\n",
    "- \"Cracking the coding interview\", 5th Edition, G. Laakmann\n",
    "- <a href=\"HackerRank.com\">HackerRank.com</a>"
   ]
  },
  {
   "cell_type": "markdown",
   "metadata": {},
   "source": [
    "## w.1 Top web users\n",
    "You are given a log of website visits represented as a list of tuples:\n",
    "(user_id: int, visit_duration: int).\n",
    "\n",
    "Your task is to return the top K users with the highest total visit duration.\n",
    "\n",
    "Example:\n",
    "\n",
    "```python\n",
    "logs = [(1, 120), (2, 150), (1, 200), (3, 50), (2, 100)]\n",
    "k = 2\n",
    "Output: [1, 2]\n",
    "```\n",
    " Output reasoning: User 1 spent 320s, User 2 spent 250s, User 3 spent 50s, so top 2 are [1, 2]\n",
    "\n",
    "**Constraints:**\n",
    "- Each user can have multiple entries in logs.\n",
    "- K is always ≤ number of unique users.\n",
    "- If two users have the same total time, return them in any order.\n",
    "\n",
    "**Reasoning**\n",
    "1. Aggregate total visits per user. e.g., dict{user: total_visits}\n",
    "2. Sort data by total visits\n",
    "3. Return top K users\n",
    "\n"
   ]
  },
  {
   "cell_type": "code",
   "execution_count": 118,
   "metadata": {},
   "outputs": [
    {
     "name": "stdout",
     "output_type": "stream",
     "text": [
      "[1, 2]\n"
     ]
    }
   ],
   "source": [
    "from typing import List\n",
    "def top_k_users(logs: tuple[int,int], k:int) -> List[int]:\n",
    "    \"\"\"\n",
    "    Solution.\n",
    "    \"\"\"\n",
    "    user_time = {}\n",
    "    for user, duration in logs:\n",
    "        if user in user_time:\n",
    "            user_time[user] += duration\n",
    "        else:\n",
    "            user_time[user] = duration\n",
    "    \n",
    "    # sort data by total visit duration\n",
    "    # sorted_users = sorted(user_time.keys(), key=lambda u: user_time[u], reverse=True)\n",
    "    sorted_users = sorted(user_time.keys(), key=lambda a: user_time[1], reverse=True)\n",
    "    # Time complexity: O(N log N)\n",
    "    \n",
    "    return sorted_users[:k]\n",
    "\n",
    "logs = [(1, 120), (2, 150), (1, 200), (3, 50), (2, 100)]\n",
    "k = 2\n",
    "print(top_k_users(logs, k))\n",
    "# Space complexity: O(N), N=number of unique users\n"
   ]
  },
  {
   "cell_type": "markdown",
   "metadata": {},
   "source": [
    "## 1.1 Arrays and Strings: Unique characters\n",
    "Implement an algorithm to determine if a string has all unique characters. \n",
    "What if you cannot use additional data structures?\n",
    "\n",
    "**Clarifications questions:**\n",
    " - do we know list of valid characters? length?\n",
    " - should we validate that only valid characters exist in string?\n",
    "\n",
    "**Reasoning:**\n",
    " - Return False if #chars in string is > than those in unique characters (Do we know how many?)\n",
    " - Otherwise, you can create a dict that stores char:occurrences, if occurs >1 then return False, else keep checking\n",
    "\n"
   ]
  },
  {
   "cell_type": "code",
   "execution_count": 114,
   "metadata": {},
   "outputs": [
    {
     "data": {
      "text/plain": [
       "True"
      ]
     },
     "execution_count": 114,
     "metadata": {},
     "output_type": "execute_result"
    }
   ],
   "source": [
    "NUM_CHARS = 26\n",
    "\n",
    "def has_unique_characters(input: str) -> bool:\n",
    "    \"\"\"\n",
    "    Check if there are only unique charecters in string.\n",
    "    \"\"\"\n",
    "    if len(input) > NUM_CHARS:\n",
    "        print('Number of characters in string is larger than those in valid source.')\n",
    "        return False\n",
    "    # Validate uniqueness of characters\n",
    "    char_occurrences = {}\n",
    "    for character in input:\n",
    "        if character in char_occurrences:\n",
    "            print('Character '+ character + ' already in string.')\n",
    "            return False\n",
    "        char_occurrences[character] = 1\n",
    "    return True\n",
    "\n",
    "\n",
    "input = 'abcdef'\n",
    "has_unique_characters(input)\n",
    "\n",
    "# Optimization suggestions:\n",
    "# - Allow number of characters to be defined from a list of valid characters and not hard-coded"
   ]
  },
  {
   "cell_type": "markdown",
   "metadata": {},
   "source": [
    "## 1.2 Arrays and Strings: Reverse\n",
    "Implement an algorithm to reverse a string."
   ]
  },
  {
   "cell_type": "code",
   "execution_count": 80,
   "metadata": {},
   "outputs": [
    {
     "name": "stdout",
     "output_type": "stream",
     "text": [
      "original: acat\n",
      "taca\n",
      "taca\n"
     ]
    }
   ],
   "source": [
    "# Reversing a string\n",
    "def reverse_string(input: str) -> bool:\n",
    "    \"\"\"\n",
    "    Reverse string.\n",
    "    \"\"\"\n",
    "    print(f\"original: {input}\")\n",
    "    reversed_string = \"\"\n",
    "    for i in range(len(input)):\n",
    "        reversed_string += input[-(i + 1)]\n",
    "    return reversed_string\n",
    "        \n",
    "s = 'acat'\n",
    "print(reverse_string(s))\n",
    "\n",
    "# Use built-in function\n",
    "print(\"\".join(reversed(s)))\n",
    "\n",
    "# If it was a list of strings\n",
    "# # Reversing a list\n",
    "# from typing import List\n",
    "# def reverse(input: List[int]) -> bool:\n",
    "#     \"\"\"\n",
    "#     Reverse list.\n",
    "#     \"\"\"\n",
    "#     print(f'original: {input}')\n",
    "#     for i in range(len(input)//2):\n",
    "#         tmp = input[i]\n",
    "#         input[i] = input[-(i + 1)]\n",
    "#         input[-(i + 1)] = tmp\n",
    "\n",
    "#     return input\n",
    "\n",
    "# l = [10,20,30,45,55]\n",
    "# print(reverse(l))"
   ]
  },
  {
   "cell_type": "markdown",
   "metadata": {},
   "source": [
    "## 1.3 Arrays and Strings: Is permutation\n",
    "Implement an algorithm to check if a string is a permutation of another one."
   ]
  },
  {
   "cell_type": "code",
   "execution_count": 89,
   "metadata": {},
   "outputs": [
    {
     "name": "stdout",
     "output_type": "stream",
     "text": [
      "act act\n"
     ]
    },
    {
     "data": {
      "text/plain": [
       "True"
      ]
     },
     "execution_count": 89,
     "metadata": {},
     "output_type": "execute_result"
    }
   ],
   "source": [
    "string1 = 'cat'\n",
    "string2 = 'tac'\n",
    "\n",
    "# Possible questions\n",
    "# - Is it case sensitive?\n",
    "# - should we consider empty spaces?\n",
    "# Reasoning:\n",
    "# - First check if lengths are different, if so return False\n",
    "# - One solution: sort both strings and compare\n",
    "\n",
    "def is_permutation(string1: str, string2: str) -> bool:\n",
    "    \"\"\"Is one string permutation of the other one\"\"\"\n",
    "    if not len(string1) == len(string2):\n",
    "        print('They differ in size')\n",
    "        return False\n",
    "    sorted1 = ''.join(sorted(string1))\n",
    "    sorted2 = ''.join(sorted(string2))\n",
    "    # Compare sorted strings\n",
    "    if sorted1 == sorted2:\n",
    "        print(f'{sorted1} {sorted2}')\n",
    "        return True\n",
    "    print('The strings are different!')\n",
    "    return False\n",
    "\n",
    "is_permutation(string1, string2)\n",
    "# Sorted time-complexity: O(n log n)"
   ]
  },
  {
   "cell_type": "markdown",
   "metadata": {},
   "source": [
    "## 1.7 Arrays and Strings: Matrix zeros\n",
    "Implement an algorithm such that if an element in an MxN matris is 0, \n",
    "its entire row and column are set to 0.\n",
    "\n",
    "**Reasoning**\n",
    "- We can't use the same matrix to do in-place replacement and check. Otherwise we'll end up making the whole matrix full of 0s.\n",
    "- We can use a temporary matrix to keep track of the original 0 locations.\n",
    "- We can use the tmp matrix to set the 0s in the original one. Keeping a tmp matrix of the same dimensions MxN could be expensive.\n",
    "- We could keep a list of rows and columns with a zero on them.\n",
    "  "
   ]
  },
  {
   "cell_type": "code",
   "execution_count": 117,
   "metadata": {},
   "outputs": [
    {
     "name": "stdout",
     "output_type": "stream",
     "text": [
      "Original matrix: [[1, 1, 0], [1, 1, 1], [1, 1, 1]]\n",
      "(0, 2)\n",
      "Zeroed matrix: [[0, 0, 0], [1, 1, 0], [1, 1, 0]]\n"
     ]
    }
   ],
   "source": [
    "# matrix tuple[int,int, ..] // Mrows elements. each of lenght Ncols\n",
    "def set_zeros(matrix):\n",
    "    \"\"\"Set zeros in an entire column or row if a cell contains a zero.\"\"\"\n",
    "    idx_cols_zeros = []  # List of indexes of rows with a zero\n",
    "    idx_rows_zeros = []  # List of indexes of columns with a zero\n",
    "    # Keep track of zero positions\n",
    "    for row_index in range(len(matrix)):\n",
    "        for col_index in range(len(matrix[0])):\n",
    "            if matrix[row_index][col_index] == 0:\n",
    "                print(f'{row_index,col_index}')\n",
    "                idx_cols_zeros.append(col_index)\n",
    "                idx_rows_zeros.append(row_index)\n",
    "    # Set zeros in original matrix\n",
    "    for col_index in idx_cols_zeros:\n",
    "        for row_index in range(len(matrix)):\n",
    "            matrix[row_index][col_index] = 0\n",
    "            \n",
    "    for row_index in idx_rows_zeros:\n",
    "        for col_index in range(len(matrix[0])):\n",
    "            matrix[row_index][col_index] = 0\n",
    "    return(matrix)\n",
    "    \n",
    "\n",
    "matrix = [[1,1,0], [1,1,1], [1,1,1]]\n",
    "print(f'Original matrix: {matrix}')\n",
    "print(f'Zeroed matrix: {set_zeros(matrix)}')\n"
   ]
  },
  {
   "cell_type": "markdown",
   "metadata": {},
   "source": [
    "## [HR] Compute ratios in array\n",
    "Given an array of integers, calculate the ratios of its elements that are positive, negative, and zero. Print the decimal value of each fraction on a new line with  places after the decimal.\n",
    "\n",
    "Note: This challenge introduces precision problems. The test cases are scaled to six decimal places, though answers with absolute error of up to  are acceptable.\n",
    "\n",
    "Example\n",
    "\n",
    "There are  elements, two positive, two negative and one zero. Their ratios are ,  and . Results are printed as:\n",
    "\n",
    "0.400000\n",
    "0.400000\n",
    "0.200000\n",
    "Function Description\n",
    "\n",
    "Complete the plusMinus function in the editor below.\n",
    "\n",
    "plusMinus has the following parameter(s):\n",
    "\n",
    "int arr[n]: an array of integers\n",
    "Print\n",
    "Print the ratios of positive, negative and zero values in the array. Each value should be printed on a separate line with  digits after the decimal. The function should not return a value.\n",
    "\n",
    "Input Format\n",
    "\n",
    "The first line contains an integer, , the size of the array.\n",
    "The second line contains  space-separated integers that describe .\n",
    "\n",
    "Constraints\n",
    "\n",
    "\n",
    "\n",
    "Output Format\n",
    "\n",
    "Print the following  lines, each to  decimals:\n",
    "\n",
    "proportion of positive values\n",
    "proportion of negative values\n",
    "proportion of zeros\n",
    "Sample Input\n",
    "\n",
    "STDIN           Function\n",
    "-----           --------\n",
    "6               arr[] size n = 6\n",
    "-4 3 -9 0 4 1   arr = [-4, 3, -9, 0, 4, 1]\n",
    "Sample Output\n",
    "\n",
    "0.500000\n",
    "0.333333\n",
    "0.166667\n",
    "Explanation\n",
    "\n",
    "There are  positive numbers,  negative numbers, and  zero in the array.\n",
    "The proportions of occurrence are positive: , negative:  and zeros: .\n",
    "\n"
   ]
  },
  {
   "cell_type": "code",
   "execution_count": 135,
   "metadata": {},
   "outputs": [
    {
     "name": "stdout",
     "output_type": "stream",
     "text": [
      "[-4, 3, -9, 0, 4, 1]\n",
      "0.500000\n",
      "0.333333\n",
      "0.166667\n"
     ]
    }
   ],
   "source": [
    "#!/bin/python3\n",
    "\n",
    "import math\n",
    "import os\n",
    "import random\n",
    "import re\n",
    "import sys\n",
    "\n",
    "#\n",
    "# Complete the 'plusMinus' function below.\n",
    "#\n",
    "# The function accepts INTEGER_ARRAY arr as parameter.\n",
    "#\n",
    "\n",
    "def plusMinus(arr):\n",
    "    \"\"\"\n",
    "    Print ratios of positive, negative and zero elements in the array.\n",
    "    \"\"\"\n",
    "    # keep counter of P, N, Z elements\n",
    "    counters = {0:0, 1:0, -1:0}\n",
    "    # run through the array and update counters\n",
    "    n = len(arr)\n",
    "\n",
    "    for i in arr:  # O(n)\n",
    "        if i == 0:\n",
    "            counters[0] += 1\n",
    "        elif i >0:\n",
    "            counters[1] += 1\n",
    "        else:\n",
    "            counters[-1] += 1\n",
    "    \n",
    "    # compute ratios (e/counter / len(array))\n",
    "    # display with decimals\n",
    "    for key in [1,-1,0]:\n",
    "        print(f'{counters[key]/n:.6f}')  # display with 6 decimals\n",
    "\n",
    "\n",
    "arr =  [-4, 3, -9, 0, 4, 1]\n",
    "print(arr)\n",
    "plusMinus(arr)\n",
    "    "
   ]
  },
  {
   "cell_type": "markdown",
   "metadata": {},
   "source": [
    "## [HR] Time Conversion\n",
    "Given a time in -hour AM/PM format, convert it to military (24-hour) time.\n",
    "\n",
    "Note: - 12:00:00AM on a 12-hour clock is 00:00:00 on a 24-hour clock.\n",
    "- 12:00:00PM on a 12-hour clock is 12:00:00 on a 24-hour clock.\n",
    "\n",
    "Example\n",
    "\n",
    "\n",
    "Return '12:01:00'.\n",
    "\n",
    "\n",
    "Return '00:01:00'.\n",
    "\n",
    "Function Description\n",
    "\n",
    "Complete the timeConversion function in the editor below. It should return a new string representing the input time in 24 hour format.\n",
    "\n",
    "timeConversion has the following parameter(s):\n",
    "\n",
    "string s: a time in  hour format\n",
    "Returns\n",
    "\n",
    "string: the time in  hour format\n",
    "Input Format\n",
    "\n",
    "A single string  that represents a time in -hour clock format (i.e.:  or ).\n",
    "\n",
    "Constraints\n",
    "\n",
    "All input times are valid\n",
    "Sample Input\n",
    "\n",
    "07:05:45PM\n",
    "Sample Output\n",
    "\n",
    "19:05:45\n"
   ]
  },
  {
   "cell_type": "code",
   "execution_count": 142,
   "metadata": {},
   "outputs": [
    {
     "data": {
      "text/plain": [
       "'19:05:45'"
      ]
     },
     "execution_count": 142,
     "metadata": {},
     "output_type": "execute_result"
    }
   ],
   "source": [
    "#!/bin/python3\n",
    "\n",
    "import math\n",
    "import os\n",
    "import random\n",
    "import re\n",
    "import sys\n",
    "\n",
    "#\n",
    "# Complete the 'timeConversion' function below.\n",
    "#\n",
    "# The function is expected to return a STRING.\n",
    "# The function accepts STRING s as parameter.\n",
    "#\n",
    "\n",
    "def timeConversion(s):\n",
    "    \"\"\"\n",
    "    Convert 12h AM/PM time into 24-hour military-time.\n",
    "    No validation on input required.\n",
    "    Input format: hh:mm:ssXX\n",
    "    \"\"\"\n",
    "    military_time = \"\"\n",
    "    \n",
    "    # extract 12-hours, minutes, seconds, TF=XX\n",
    "    hh, mm, ssTF = s.split(':')\n",
    "    if hh == \"12\":\n",
    "        hh = \"00\"\n",
    "    ss = ssTF[0:2]\n",
    "    tf = ssTF[2:]\n",
    "    \n",
    "    # convert hours to 24format (h, TF)\n",
    "    # 12+AM > 00, 01+AM > 01, 11AM > 11  (+0)\n",
    "    # 12+PM > 12, 01+PM > 13, 11PM > 23  (+12)\n",
    "    if tf == \"PM\":\n",
    "        hh = str(int(hh) + 12)\n",
    "    \n",
    "    \n",
    "    # merge h/m/s into military_time\n",
    "    #military_time = hh + ':' + mm + ':' ss\n",
    "    military_time = ':'.join([hh,mm,ss])\n",
    "    return military_time\n",
    "\n",
    "\n",
    "timeConversion('07:05:45PM')"
   ]
  },
  {
   "cell_type": "markdown",
   "metadata": {},
   "source": []
  }
 ],
 "metadata": {
  "kernelspec": {
   "display_name": ".venv",
   "language": "python",
   "name": "python3"
  },
  "language_info": {
   "codemirror_mode": {
    "name": "ipython",
    "version": 3
   },
   "file_extension": ".py",
   "mimetype": "text/x-python",
   "name": "python",
   "nbconvert_exporter": "python",
   "pygments_lexer": "ipython3",
   "version": "3.12.3"
  }
 },
 "nbformat": 4,
 "nbformat_minor": 2
}
