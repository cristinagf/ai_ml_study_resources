{
 "cells": [
  {
   "cell_type": "markdown",
   "id": "5775db88",
   "metadata": {},
   "source": [
    "# Recommendation Systems\n",
    "\n",
    "These have become part of our daily lifes guiding us to products/services we could like (e.g., think Netflix, Booking, UberEats). Their target is to enhance **user experience** by going through vast amounts of information to deliver personalized content.\n",
    "\n",
    "Commonly applied techniques: Singular Value Decomposition (SVD), Matrix Factorization (MF).\n",
    "\n",
    "## Singular Value Decomposition - SVD\n",
    "Math technique used to decompose a matrix into 3 simpler ones:\n",
    "\n",
    "- U: an orthogonal matrix with the **left singular vectors**\n",
    "\n",
    "- $\\Sigma$: Diagoal matrix containing **singular values**\n",
    "\n",
    "- V^T: Orthogonal matri containing the **right singular vectors**\n",
    "\n",
    "SVD reduces dimensionality of the **user interaction matrix**, capturing the most relevant **latent factors** - that have an impact on user preferences and item characteristics.\n",
    "\n",
    "\n",
    "\n"
   ]
  },
  {
   "cell_type": "code",
   "execution_count": null,
   "id": "adbe27bd",
   "metadata": {},
   "outputs": [],
   "source": [
    "# We will use: \n",
    "# Surprise, a Python scikit for building and analyzing recommender systems that deal with explicit rating data.\n",
    "\n",
    "# pip install scikit-surprise\n",
    "# uv:   \"numpy<2\", \"scikit-surprise>=1.1.4\",\n",
    "from surprise import Dataset\n"
   ]
  },
  {
   "cell_type": "code",
   "execution_count": null,
   "id": "863c5fee",
   "metadata": {},
   "outputs": [],
   "source": [
    "# Loading/preparing data\n",
    "\n",
    "# Load the MovieLens 100k dataset\n",
    "data = Dataset.load_builtin('ml-100k')\n",
    "\n",
    "# Define a Reader object to specify the rating scale\n",
    "reader = Reader(line_format='user item rating timestamp', sep='\\t', rating_scale=(1, 5))\n",
    "\n",
    "# Load the data into a Surprise dataset\n",
    "data = Dataset.load_builtin('ml-100k', reader=reader)\n"
   ]
  },
  {
   "cell_type": "code",
   "execution_count": null,
   "id": "f15e4206",
   "metadata": {},
   "outputs": [],
   "source": [
    "# 3: Training - SVD Model\n",
    "from surprise import SVD\n",
    "\n",
    "# Split the data into training and test sets\n",
    "trainset, testset = train_test_split(data, test_size=0.2)\n",
    "\n",
    "# Instantiate the SVD model\n",
    "svd = SVD()\n",
    "\n",
    "# Train the model on the training set\n",
    "svd.fit(trainset)"
   ]
  },
  {
   "cell_type": "code",
   "execution_count": null,
   "id": "85162a75",
   "metadata": {},
   "outputs": [],
   "source": [
    "# 4: Evaluation\n",
    "# Metrics: Root Mean Squared Error (RMSE) and Mean Absolute Error (MAE)\n",
    "\n",
    "# Predict ratings for the test set\n",
    "predictions = svd.test(testset)\n",
    "\n",
    "# Compute and print RMSE and MAE\n",
    "rmse = accuracy.rmse(predictions)\n",
    "mae = accuracy.mae(predictions)"
   ]
  },
  {
   "cell_type": "code",
   "execution_count": null,
   "id": "f11dace2",
   "metadata": {},
   "outputs": [],
   "source": [
    "# 5. Inference - Predictions\n",
    "# Predict which ration a user would give to a specific item\n",
    "\n",
    "# Predict rating: provide a specific user and item\n",
    "user_id = str(196)  # User ID should be a string\n",
    "item_id = str(302)  # Item ID should be a string\n",
    "\n",
    "predicted_rating = svd.predict(user_id, item_id).est\n",
    "\n",
    "print(f\"Predicted rating for user {user_id} on item {item_id}: {predicted_rating}\")"
   ]
  },
  {
   "cell_type": "markdown",
   "id": "04f5fb6d",
   "metadata": {},
   "source": [
    "## Designing DBs for Recommendation SYstems\n",
    "\n",
    "Recommendation Systems provide features designed to analyze user behaviour, their preferences, and interactions. Some of these features are:\n",
    "- User profiling: Create detailed profile of users (demographic, preferences, past behaviour, etc)\n",
    "- Item Catalog: Articles (products) available for recommendation\n",
    "- Collaborative filtering: Analyze **user-item** interaction to identify patterns, and similarities between users and items. \n",
    "- Content-Based filtering: Use item attributes and user preferences to provide recommendations\n",
    "\n",
    "Designing DBs for Recommendation Systems requires careful consideration of various factors: data structure, scalability, real-time processing, data privacy, and performance optimization.\n",
    "\n",
    "Best practices (data normalization, indexing strategies for enhance query performance, rt processing, privacy, scalability) must be carefully observed.\n",
    "\n",
    "### Example of entities and attributes\n",
    "- User\n",
    "    - id, (demographic info) name, email, user, age, location, (Preferences) favorite PRODUCTS\n",
    "- Item\n",
    "    - id, title, description, category, (attributes) genre, price, introduction date\n",
    "- Interaction\n",
    "    - id, user-id, item-id, (type of interaction) action [buy/return/like/view], timestamp\n",
    "\n",
    "\n",
    "Note that entities are interconnected through relationships that indicate the associations of user and item data. Key relationships include:\n",
    "- User Profile-Interaction Relationship (1-to-many)\n",
    "- Item-Interaction Relationship  (1-to-many)\n"
   ]
  },
  {
   "cell_type": "markdown",
   "id": "0f1aa2e5",
   "metadata": {},
   "source": []
  }
 ],
 "metadata": {
  "kernelspec": {
   "display_name": ".venv",
   "language": "python",
   "name": "python3"
  },
  "language_info": {
   "codemirror_mode": {
    "name": "ipython",
    "version": 3
   },
   "file_extension": ".py",
   "mimetype": "text/x-python",
   "name": "python",
   "nbconvert_exporter": "python",
   "pygments_lexer": "ipython3",
   "version": "3.12.3"
  }
 },
 "nbformat": 4,
 "nbformat_minor": 5
}
